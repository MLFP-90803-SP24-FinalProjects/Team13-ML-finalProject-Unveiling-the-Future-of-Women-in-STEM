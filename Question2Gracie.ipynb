{
 "cells": [
  {
   "cell_type": "markdown",
   "metadata": {},
   "source": [
    "### Question 2: Are women more likely to complete secondary education in some countries than others? In the coming years, what percentage of women overall and by country, do we expect to enroll in secondary education? What factors indicate whether or not a women completes secondary education?"
   ]
  },
  {
   "cell_type": "markdown",
   "metadata": {},
   "source": [
    "### Import packages and data"
   ]
  },
  {
   "cell_type": "code",
   "execution_count": 84,
   "metadata": {},
   "outputs": [],
   "source": [
    "#import packages\n",
    "\n",
    "# general\n",
    "import numpy as np\n",
    "import pandas as pd\n",
    "import time\n",
    "\n",
    "# sklearn\n",
    "from sklearn.linear_model import LinearRegression\n",
    "from sklearn.preprocessing import PolynomialFeatures\n",
    "from sklearn.model_selection import train_test_split, LeaveOneOut, KFold, cross_val_score\n",
    "from sklearn.metrics import mean_squared_error\n",
    "from sklearn.feature_selection import SequentialFeatureSelector\n",
    "from sklearn.ensemble import RandomForestRegressor\n",
    "from sklearn.linear_model import ElasticNet\n",
    "from sklearn.metrics import accuracy_score\n",
    "from sklearn.metrics import confusion_matrix, ConfusionMatrixDisplay\n",
    "from sklearn.ensemble import GradientBoostingRegressor\n",
    "from sklearn.linear_model import Ridge\n",
    "from sklearn.linear_model import Lasso\n",
    "from sklearn.metrics import classification_report\n",
    "from sklearn.model_selection import GridSearchCV\n",
    "\n",
    "# visualization\n",
    "import seaborn as sns\n",
    "from matplotlib import pyplot as plt\n",
    "%matplotlib inline"
   ]
  },
  {
   "cell_type": "code",
   "execution_count": 85,
   "metadata": {},
   "outputs": [
    {
     "data": {
      "text/html": [
       "<div>\n",
       "<style scoped>\n",
       "    .dataframe tbody tr th:only-of-type {\n",
       "        vertical-align: middle;\n",
       "    }\n",
       "\n",
       "    .dataframe tbody tr th {\n",
       "        vertical-align: top;\n",
       "    }\n",
       "\n",
       "    .dataframe thead th {\n",
       "        text-align: right;\n",
       "    }\n",
       "</style>\n",
       "<table border=\"1\" class=\"dataframe\">\n",
       "  <thead>\n",
       "    <tr style=\"text-align: right;\">\n",
       "      <th></th>\n",
       "      <th>Unnamed: 0</th>\n",
       "      <th>Year</th>\n",
       "      <th>A woman can be head of household in the same way as a man (1=yes; 0=no)</th>\n",
       "      <th>A woman can choose where to live in the same way as a man (1=yes; 0=no)</th>\n",
       "      <th>A woman can get a job in the same way as a man (1=yes; 0=no)</th>\n",
       "      <th>A woman can obtain a judgment of divorce in the same way as a man (1=yes; 0=no)</th>\n",
       "      <th>A woman can open a bank account in the same way as a man (1=yes; 0=no)</th>\n",
       "      <th>A woman can register a business in the same way as a man (1=yes; 0=no)</th>\n",
       "      <th>A woman can sign a contract in the same way as a man (1=yes; 0=no)</th>\n",
       "      <th>A woman can travel outside her home in the same way as a man (1=yes; 0=no)</th>\n",
       "      <th>...</th>\n",
       "      <th>Country Name_Ukraine</th>\n",
       "      <th>Country Name_United Arab Emirates</th>\n",
       "      <th>Country Name_United Kingdom</th>\n",
       "      <th>Country Name_United States</th>\n",
       "      <th>Country Name_Uruguay</th>\n",
       "      <th>Country Name_Uzbekistan</th>\n",
       "      <th>Country Name_Venezuela, RB</th>\n",
       "      <th>Country Name_Viet Nam</th>\n",
       "      <th>Country Name_West Bank and Gaza</th>\n",
       "      <th>Country Name_Zimbabwe</th>\n",
       "    </tr>\n",
       "  </thead>\n",
       "  <tbody>\n",
       "    <tr>\n",
       "      <th>0</th>\n",
       "      <td>0</td>\n",
       "      <td>-1.0</td>\n",
       "      <td>1.0</td>\n",
       "      <td>1.0</td>\n",
       "      <td>1.0</td>\n",
       "      <td>1.0</td>\n",
       "      <td>1.0</td>\n",
       "      <td>1.0</td>\n",
       "      <td>0.0</td>\n",
       "      <td>1.0</td>\n",
       "      <td>...</td>\n",
       "      <td>0</td>\n",
       "      <td>0</td>\n",
       "      <td>0</td>\n",
       "      <td>0</td>\n",
       "      <td>0</td>\n",
       "      <td>0</td>\n",
       "      <td>0</td>\n",
       "      <td>0</td>\n",
       "      <td>0</td>\n",
       "      <td>0</td>\n",
       "    </tr>\n",
       "    <tr>\n",
       "      <th>1</th>\n",
       "      <td>1</td>\n",
       "      <td>-0.7</td>\n",
       "      <td>1.0</td>\n",
       "      <td>1.0</td>\n",
       "      <td>1.0</td>\n",
       "      <td>1.0</td>\n",
       "      <td>1.0</td>\n",
       "      <td>1.0</td>\n",
       "      <td>0.0</td>\n",
       "      <td>1.0</td>\n",
       "      <td>...</td>\n",
       "      <td>0</td>\n",
       "      <td>0</td>\n",
       "      <td>0</td>\n",
       "      <td>0</td>\n",
       "      <td>0</td>\n",
       "      <td>0</td>\n",
       "      <td>0</td>\n",
       "      <td>0</td>\n",
       "      <td>0</td>\n",
       "      <td>0</td>\n",
       "    </tr>\n",
       "    <tr>\n",
       "      <th>2</th>\n",
       "      <td>2</td>\n",
       "      <td>0.1</td>\n",
       "      <td>1.0</td>\n",
       "      <td>1.0</td>\n",
       "      <td>1.0</td>\n",
       "      <td>1.0</td>\n",
       "      <td>1.0</td>\n",
       "      <td>1.0</td>\n",
       "      <td>1.0</td>\n",
       "      <td>1.0</td>\n",
       "      <td>...</td>\n",
       "      <td>0</td>\n",
       "      <td>0</td>\n",
       "      <td>0</td>\n",
       "      <td>0</td>\n",
       "      <td>0</td>\n",
       "      <td>0</td>\n",
       "      <td>0</td>\n",
       "      <td>0</td>\n",
       "      <td>0</td>\n",
       "      <td>0</td>\n",
       "    </tr>\n",
       "    <tr>\n",
       "      <th>3</th>\n",
       "      <td>3</td>\n",
       "      <td>0.5</td>\n",
       "      <td>1.0</td>\n",
       "      <td>1.0</td>\n",
       "      <td>1.0</td>\n",
       "      <td>1.0</td>\n",
       "      <td>1.0</td>\n",
       "      <td>1.0</td>\n",
       "      <td>1.0</td>\n",
       "      <td>1.0</td>\n",
       "      <td>...</td>\n",
       "      <td>0</td>\n",
       "      <td>0</td>\n",
       "      <td>0</td>\n",
       "      <td>0</td>\n",
       "      <td>0</td>\n",
       "      <td>0</td>\n",
       "      <td>0</td>\n",
       "      <td>0</td>\n",
       "      <td>0</td>\n",
       "      <td>0</td>\n",
       "    </tr>\n",
       "    <tr>\n",
       "      <th>4</th>\n",
       "      <td>4</td>\n",
       "      <td>0.6</td>\n",
       "      <td>1.0</td>\n",
       "      <td>1.0</td>\n",
       "      <td>1.0</td>\n",
       "      <td>1.0</td>\n",
       "      <td>1.0</td>\n",
       "      <td>1.0</td>\n",
       "      <td>1.0</td>\n",
       "      <td>1.0</td>\n",
       "      <td>...</td>\n",
       "      <td>0</td>\n",
       "      <td>0</td>\n",
       "      <td>0</td>\n",
       "      <td>0</td>\n",
       "      <td>0</td>\n",
       "      <td>0</td>\n",
       "      <td>0</td>\n",
       "      <td>0</td>\n",
       "      <td>0</td>\n",
       "      <td>0</td>\n",
       "    </tr>\n",
       "  </tbody>\n",
       "</table>\n",
       "<p>5 rows × 189 columns</p>\n",
       "</div>"
      ],
      "text/plain": [
       "   Unnamed: 0  Year  \\\n",
       "0           0  -1.0   \n",
       "1           1  -0.7   \n",
       "2           2   0.1   \n",
       "3           3   0.5   \n",
       "4           4   0.6   \n",
       "\n",
       "   A woman can be head of household in the same way as a man (1=yes; 0=no)  \\\n",
       "0                                                1.0                         \n",
       "1                                                1.0                         \n",
       "2                                                1.0                         \n",
       "3                                                1.0                         \n",
       "4                                                1.0                         \n",
       "\n",
       "   A woman can choose where to live in the same way as a man (1=yes; 0=no)  \\\n",
       "0                                                1.0                         \n",
       "1                                                1.0                         \n",
       "2                                                1.0                         \n",
       "3                                                1.0                         \n",
       "4                                                1.0                         \n",
       "\n",
       "   A woman can get a job in the same way as a man (1=yes; 0=no)  \\\n",
       "0                                                1.0              \n",
       "1                                                1.0              \n",
       "2                                                1.0              \n",
       "3                                                1.0              \n",
       "4                                                1.0              \n",
       "\n",
       "   A woman can obtain a judgment of divorce in the same way as a man (1=yes; 0=no)  \\\n",
       "0                                                1.0                                 \n",
       "1                                                1.0                                 \n",
       "2                                                1.0                                 \n",
       "3                                                1.0                                 \n",
       "4                                                1.0                                 \n",
       "\n",
       "   A woman can open a bank account in the same way as a man (1=yes; 0=no)  \\\n",
       "0                                                1.0                        \n",
       "1                                                1.0                        \n",
       "2                                                1.0                        \n",
       "3                                                1.0                        \n",
       "4                                                1.0                        \n",
       "\n",
       "   A woman can register a business in the same way as a man (1=yes; 0=no)  \\\n",
       "0                                                1.0                        \n",
       "1                                                1.0                        \n",
       "2                                                1.0                        \n",
       "3                                                1.0                        \n",
       "4                                                1.0                        \n",
       "\n",
       "   A woman can sign a contract in the same way as a man (1=yes; 0=no)  \\\n",
       "0                                                0.0                    \n",
       "1                                                0.0                    \n",
       "2                                                1.0                    \n",
       "3                                                1.0                    \n",
       "4                                                1.0                    \n",
       "\n",
       "   A woman can travel outside her home in the same way as a man (1=yes; 0=no)  \\\n",
       "0                                                1.0                            \n",
       "1                                                1.0                            \n",
       "2                                                1.0                            \n",
       "3                                                1.0                            \n",
       "4                                                1.0                            \n",
       "\n",
       "   ...  Country Name_Ukraine  Country Name_United Arab Emirates  \\\n",
       "0  ...                     0                                  0   \n",
       "1  ...                     0                                  0   \n",
       "2  ...                     0                                  0   \n",
       "3  ...                     0                                  0   \n",
       "4  ...                     0                                  0   \n",
       "\n",
       "   Country Name_United Kingdom  Country Name_United States  \\\n",
       "0                            0                           0   \n",
       "1                            0                           0   \n",
       "2                            0                           0   \n",
       "3                            0                           0   \n",
       "4                            0                           0   \n",
       "\n",
       "   Country Name_Uruguay  Country Name_Uzbekistan  Country Name_Venezuela, RB  \\\n",
       "0                     0                        0                           0   \n",
       "1                     0                        0                           0   \n",
       "2                     0                        0                           0   \n",
       "3                     0                        0                           0   \n",
       "4                     0                        0                           0   \n",
       "\n",
       "   Country Name_Viet Nam  Country Name_West Bank and Gaza  \\\n",
       "0                      0                                0   \n",
       "1                      0                                0   \n",
       "2                      0                                0   \n",
       "3                      0                                0   \n",
       "4                      0                                0   \n",
       "\n",
       "   Country Name_Zimbabwe  \n",
       "0                      0  \n",
       "1                      0  \n",
       "2                      0  \n",
       "3                      0  \n",
       "4                      0  \n",
       "\n",
       "[5 rows x 189 columns]"
      ]
     },
     "execution_count": 85,
     "metadata": {},
     "output_type": "execute_result"
    }
   ],
   "source": [
    "#load in the dataset\n",
    "df = pd.read_csv('transformed_data.csv')\n",
    "df.head()"
   ]
  },
  {
   "cell_type": "markdown",
   "metadata": {},
   "source": [
    "### Prepare the data for the models"
   ]
  },
  {
   "cell_type": "code",
   "execution_count": 86,
   "metadata": {},
   "outputs": [],
   "source": [
    "#create X and y dataframes\n",
    "X = df.drop(columns='School enrollment, secondary, female (% gross)')\n",
    "y = df[['School enrollment, secondary, female (% gross)']]"
   ]
  },
  {
   "cell_type": "code",
   "execution_count": 87,
   "metadata": {},
   "outputs": [
    {
     "data": {
      "text/html": [
       "<div>\n",
       "<style scoped>\n",
       "    .dataframe tbody tr th:only-of-type {\n",
       "        vertical-align: middle;\n",
       "    }\n",
       "\n",
       "    .dataframe tbody tr th {\n",
       "        vertical-align: top;\n",
       "    }\n",
       "\n",
       "    .dataframe thead th {\n",
       "        text-align: right;\n",
       "    }\n",
       "</style>\n",
       "<table border=\"1\" class=\"dataframe\">\n",
       "  <thead>\n",
       "    <tr style=\"text-align: right;\">\n",
       "      <th></th>\n",
       "      <th>School enrollment, secondary, female (% gross)</th>\n",
       "    </tr>\n",
       "  </thead>\n",
       "  <tbody>\n",
       "    <tr>\n",
       "      <th>396</th>\n",
       "      <td>0.004843</td>\n",
       "    </tr>\n",
       "    <tr>\n",
       "      <th>227</th>\n",
       "      <td>0.115674</td>\n",
       "    </tr>\n",
       "    <tr>\n",
       "      <th>673</th>\n",
       "      <td>0.000000</td>\n",
       "    </tr>\n",
       "    <tr>\n",
       "      <th>702</th>\n",
       "      <td>0.000000</td>\n",
       "    </tr>\n",
       "    <tr>\n",
       "      <th>643</th>\n",
       "      <td>-1.464595</td>\n",
       "    </tr>\n",
       "    <tr>\n",
       "      <th>...</th>\n",
       "      <td>...</td>\n",
       "    </tr>\n",
       "    <tr>\n",
       "      <th>35</th>\n",
       "      <td>0.000000</td>\n",
       "    </tr>\n",
       "    <tr>\n",
       "      <th>870</th>\n",
       "      <td>-1.331799</td>\n",
       "    </tr>\n",
       "    <tr>\n",
       "      <th>503</th>\n",
       "      <td>0.008743</td>\n",
       "    </tr>\n",
       "    <tr>\n",
       "      <th>472</th>\n",
       "      <td>-0.075033</td>\n",
       "    </tr>\n",
       "    <tr>\n",
       "      <th>211</th>\n",
       "      <td>0.276600</td>\n",
       "    </tr>\n",
       "  </tbody>\n",
       "</table>\n",
       "<p>215 rows × 1 columns</p>\n",
       "</div>"
      ],
      "text/plain": [
       "     School enrollment, secondary, female (% gross)\n",
       "396                                        0.004843\n",
       "227                                        0.115674\n",
       "673                                        0.000000\n",
       "702                                        0.000000\n",
       "643                                       -1.464595\n",
       "..                                              ...\n",
       "35                                         0.000000\n",
       "870                                       -1.331799\n",
       "503                                        0.008743\n",
       "472                                       -0.075033\n",
       "211                                        0.276600\n",
       "\n",
       "[215 rows x 1 columns]"
      ]
     },
     "execution_count": 87,
     "metadata": {},
     "output_type": "execute_result"
    }
   ],
   "source": [
    "#split data into train and test\n",
    "X_train, X_test, y_train, y_test = train_test_split(X, y, test_size=0.2, random_state=17)\n",
    "y_test"
   ]
  },
  {
   "cell_type": "markdown",
   "metadata": {},
   "source": [
    "#### Feature engineering"
   ]
  },
  {
   "cell_type": "code",
   "execution_count": 43,
   "metadata": {},
   "outputs": [
    {
     "name": "stdout",
     "output_type": "stream",
     "text": [
      "Selected features: ['A woman can be head of household in the same way as a man (1=yes; 0=no)', 'A woman has the same rights to remarry as a man (1=yes; 0=no)', 'Age dependency ratio (% of working-age population)', 'Country Name_Algeria', 'Country Name_Angola', 'Country Name_Australia', 'Country Name_Belarus', 'Country Name_Belgium', 'Country Name_Belize', 'Country Name_Benin', 'Country Name_Bulgaria', 'Country Name_Burkina Faso', 'Country Name_Cabo Verde', 'Country Name_Cambodia', 'Country Name_Chad', 'Country Name_Colombia', 'Country Name_Denmark', 'Country Name_Ecuador', 'Country Name_El Salvador', 'Country Name_Eswatini', 'Country Name_Ethiopia', 'Country Name_France', 'Country Name_Gambia, The', 'Country Name_Georgia', 'Country Name_Grenada', 'Country Name_Guatemala', 'Country Name_Hong Kong SAR, China', 'Country Name_Hungary', 'Country Name_India', 'Country Name_Ireland', 'Country Name_Jordan', 'Country Name_Kenya', 'Country Name_Kiribati', 'Country Name_Lao PDR', 'Country Name_Latvia', 'Country Name_Lebanon', 'Country Name_Lesotho', 'Country Name_Liberia', 'Country Name_Lithuania', 'Country Name_Luxembourg', 'Country Name_Maldives', 'Country Name_Malta', 'Country Name_Mauritius', 'Country Name_Mexico', 'Country Name_Moldova', 'Country Name_Mongolia', 'Country Name_Morocco', 'Country Name_Myanmar', 'Country Name_Namibia', 'Country Name_New Zealand', 'Country Name_Niger', 'Country Name_North Macedonia', 'Country Name_Norway', 'Country Name_Oman', 'Country Name_Panama', 'Country Name_Poland', 'Country Name_Portugal', 'Country Name_Rwanda', 'Country Name_Serbia', 'Country Name_Seychelles', 'Country Name_Sierra Leone', 'Country Name_South Africa', 'Country Name_Spain', 'Country Name_Sri Lanka', 'Country Name_St. Vincent and the Grenadines', 'Country Name_Sweden', 'Country Name_Switzerland', 'Country Name_Tunisia', 'Country Name_Turkiye', 'Country Name_Ukraine', 'Country Name_United Kingdom', 'Country Name_Venezuela, RB', 'Country Name_Viet Nam', 'Country Name_Zimbabwe', 'Fertility rate, total (births per woman)', 'GDP (current US$)', 'GDP per capita (Current US$)', 'Law mandates equal remuneration for females and males for work of equal value (1=yes; 0=no)', 'Length of paid parental leave for mother (calendar days)', 'Length of paid paternity leave (calendar days)', 'Life expectancy at age 60, female (years)', 'Paid leave of at least 14 weeks available to mothers (1=yes; 0=no)', 'Population ages 65 and above, female', 'Population, female (% of total)', 'Rural population (% of total population)', 'School enrollment, primary, female (% gross)', 'School enrollment, tertiary (% gross)', 'Sons and daughters have equal rights to inherit assets from their parents (1=yes; 0=no)', 'The age at which men and women can retire with partial pension benefits is the same (1=yes; 0=no)', 'The law grants spouses equal administrative authority over assets during marriage (1=yes; 0=no)', 'The law prohibits discrimination in access to credit based on gender (1=yes; 0=no)', 'The mandatory retirement age for men and women is the same (1=yes; 0=no)', 'Unnamed: 0', 'Vocational and Technical enrolment (% of total secondary enrolment), total']\n",
      "Transformed X_train shape: (856, 94)\n",
      "Transformed X_test shape: (215, 94)\n"
     ]
    }
   ],
   "source": [
    "#initialize sfs, use linear regression as the baseline model for this question\n",
    "sfs = SequentialFeatureSelector(estimator = LinearRegression(),\n",
    "                                n_features_to_select = \"auto\",\n",
    "                                direction = 'forward',\n",
    "                                scoring = 'neg_mean_squared_error',\n",
    "                                cv = 10)\n",
    "\n",
    "#fit the data to sfs\n",
    "sfs = sfs.fit(X_train, y_train)\n",
    "\n",
    "#retrieve the and print the names of the selected features\n",
    "feature_names = np.array(df.columns.difference(['School enrollment, secondary, female (% gross)']))\n",
    "selected_feature_names = feature_names[sfs.get_support()].tolist()\n",
    "print(\"Selected features:\", selected_feature_names)\n",
    "\n",
    "# transform X_train and X_test to include only the selected features\n",
    "X_train_selected = sfs.transform(X_train)\n",
    "X_test_selected = sfs.transform(X_test)\n",
    "\n",
    "# display the shape of transformed X_train_selected and X_test_selected\n",
    "print(\"Transformed X_train shape:\", X_train_selected.shape)\n",
    "print(\"Transformed X_test shape:\", X_test_selected.shape)"
   ]
  },
  {
   "cell_type": "markdown",
   "metadata": {},
   "source": [
    "### Initial Baseline Model for Linear Regression:"
   ]
  },
  {
   "cell_type": "code",
   "execution_count": 88,
   "metadata": {},
   "outputs": [
    {
     "name": "stdout",
     "output_type": "stream",
     "text": [
      "MSE (Train):  0.217\n",
      "MSE (Test):  0.435\n",
      "R-Squared (Train):  0.893\n",
      "R-Squared (Test):  0.76\n"
     ]
    }
   ],
   "source": [
    "#create a linear regression model using the selected features\n",
    "\n",
    "#initialize the model\n",
    "lr_model = LinearRegression()\n",
    "\n",
    "#fit the model\n",
    "lr_model.fit(X_train_selected, y_train)\n",
    "\n",
    "#making predictions on the training and test sets\n",
    "y_pred_train = lr_model.predict(X_train_selected)\n",
    "y_pred_test = lr_model.predict(X_test_selected)\n",
    "\n",
    "#evaluate the model using MSE and R squared\n",
    "mse_train = mean_squared_error(y_train,y_pred_train)\n",
    "mse_test = mean_squared_error(y_test,y_pred_test)\n",
    "r_sq_train = lr_model.score(X_train_selected, y_train)\n",
    "r_sq_test = lr_model.score(X_test_selected, y_test)\n",
    "\n",
    "#print the MSE and R_squared\n",
    "print('MSE (Train): ', round(mse_train, 3))\n",
    "print('MSE (Test): ', round(mse_test, 3))\n",
    "print('R-Squared (Train): ', round(r_sq_train, 3))\n",
    "print('R-Squared (Test): ', round(r_sq_test, 3))"
   ]
  },
  {
   "cell_type": "markdown",
   "metadata": {},
   "source": [
    "> The initial model does fairly okay with an r-squared of 0.876 for the training data and 0.752 for the test data. Because the test r-squared is quite a bit lower than the train, there could be some concern of overfitting. Additionally, the MSE of the test data is much worse than it is for the training data. For a simple linear regression, this model does not perform too bad, but it will be interesting to see how more advanced models perform in comparison."
   ]
  },
  {
   "cell_type": "markdown",
   "metadata": {},
   "source": [
    "### Function for the Models "
   ]
  },
  {
   "cell_type": "code",
   "execution_count": 89,
   "metadata": {},
   "outputs": [],
   "source": [
    "def question2(model_type, X_train, y_train, X_test, y_test):\n",
    "\n",
    "    # Step 1: Initialize a model object\n",
    "    if model_type == 'Linear Regression':\n",
    "      model = LinearRegression()\n",
    "    elif model_type == 'Ridge':\n",
    "      model = Ridge()\n",
    "    elif model_type == 'Lasso':\n",
    "      model = Lasso()\n",
    "    elif model_type == 'Random Forest':\n",
    "      model = RandomForestRegressor()\n",
    "    elif model_type == 'Gradient Boosting':\n",
    "      model = GradientBoostingRegressor()\n",
    "    elif model_type == 'ElasticNet':\n",
    "      model = ElasticNet()\n",
    "    else:\n",
    "      print('Please specify the model type')\n",
    "\n",
    "    # Step 2: Train the model\n",
    "    model.fit(X_train, y_train)\n",
    "\n",
    "    # Step 3: Make predictions\n",
    "    y_pred_train = model.predict(X_train)\n",
    "    y_pred_test = model.predict(X_test)\n",
    "\n",
    "    # Step 4: Evaluate the model performance\n",
    "\n",
    "    ## MSE\n",
    "    #evaluate the model using MSE and R squared\n",
    "    mse_train = mean_squared_error(y_train,y_pred_train)\n",
    "    mse_test = mean_squared_error(y_test,y_pred_test)\n",
    "    r_sq_train = model.score(X_train, y_train)\n",
    "    r_sq_test = model.score(X_test, y_test)\n",
    "\n",
    "    #print the MSE and R_squared\n",
    "    print('MSE (Train): ', round(mse_train, 3))\n",
    "    print('MSE (Test): ', round(mse_test, 3))\n",
    "    print('R-Squared (Train): ', round(r_sq_train, 3))\n",
    "    print('R-Squared (Test): ', round(r_sq_test, 3))\n",
    "\n",
    "    return mse_train, mse_test, r_sq_train, r_sq_test"
   ]
  },
  {
   "cell_type": "markdown",
   "metadata": {},
   "source": [
    "### Model #1: Linear Regression"
   ]
  },
  {
   "cell_type": "code",
   "execution_count": 90,
   "metadata": {},
   "outputs": [
    {
     "name": "stdout",
     "output_type": "stream",
     "text": [
      "Linear Regression:\n",
      "MSE (Train):  0.217\n",
      "MSE (Test):  0.435\n",
      "R-Squared (Train):  0.893\n",
      "R-Squared (Test):  0.76\n"
     ]
    }
   ],
   "source": [
    "#running the model with the selected features\n",
    "print('Linear Regression:')\n",
    "mse_train_lr, mse_test_lr, r_sq_train_lr, r_sq_test_lr = question2('Linear Regression', X_train_selected, y_train, X_test_selected, y_test)"
   ]
  },
  {
   "cell_type": "markdown",
   "metadata": {},
   "source": [
    "### Model #2: Regularized Regression Models"
   ]
  },
  {
   "cell_type": "code",
   "execution_count": 91,
   "metadata": {},
   "outputs": [
    {
     "name": "stdout",
     "output_type": "stream",
     "text": [
      "Ridge Model:\n",
      "MSE (Train):  0.236\n",
      "MSE (Test):  0.454\n",
      "R-Squared (Train):  0.884\n",
      "R-Squared (Test):  0.749\n",
      "\n",
      "\n",
      "Lasso Model:\n",
      "MSE (Train):  1.789\n",
      "MSE (Test):  1.679\n",
      "R-Squared (Train):  0.122\n",
      "R-Squared (Test):  0.072\n"
     ]
    }
   ],
   "source": [
    "#running the ridge model with the selected features\n",
    "print('Ridge Model:')\n",
    "mse_train_ridge, mse_test_ridge, r_sq_train_ridge, r_sq_test_ridge = question2('Ridge', X_train_selected, y_train, X_test_selected, y_test)\n",
    "print('\\n')\n",
    "\n",
    "#running the lasso model with the selected features\n",
    "print('Lasso Model:')\n",
    "mse_train_lasso, mse_test_lasso, r_sq_train_lasso, r_sq_test_lasso = question2('Lasso', X_train_selected, y_train, X_test_selected, y_test)\n"
   ]
  },
  {
   "cell_type": "markdown",
   "metadata": {},
   "source": [
    "### Model #3: Ensemble Methods"
   ]
  },
  {
   "cell_type": "code",
   "execution_count": 92,
   "metadata": {},
   "outputs": [
    {
     "name": "stdout",
     "output_type": "stream",
     "text": [
      "Random Forest Regressor:\n",
      "MSE (Train):  0.029\n",
      "MSE (Test):  0.306\n",
      "R-Squared (Train):  0.986\n",
      "R-Squared (Test):  0.831\n",
      "\n",
      "\n",
      "Gradient Boosting Regressor:\n",
      "MSE (Train):  0.13\n",
      "MSE (Test):  0.377\n",
      "R-Squared (Train):  0.936\n",
      "R-Squared (Test):  0.792\n"
     ]
    }
   ],
   "source": [
    "#reshape the target variable\n",
    "y_train_ensemble = y_train.values.ravel()\n",
    "y_test_ensemble = y_test.values.ravel()\n",
    "\n",
    "#running the random forest model with the selected features\n",
    "print('Random Forest Regressor:')\n",
    "mse_train_rf, mse_test_rf, r_sq_train_rf, r_sq_test_rf = question2('Random Forest', X_train_selected, y_train_ensemble, X_test_selected, y_test_ensemble)\n",
    "print('\\n')\n",
    "\n",
    "#running the gradient boosting model with the selected features\n",
    "print('Gradient Boosting Regressor:')\n",
    "mse_train_gb, mse_test_gb, r_sq_train_gb, r_sq_test_gb = question2('Gradient Boosting', X_train_selected, y_train_ensemble, X_test_selected, y_test_ensemble)\n"
   ]
  },
  {
   "cell_type": "markdown",
   "metadata": {},
   "source": [
    "### Model #4: ElasticNet"
   ]
  },
  {
   "cell_type": "code",
   "execution_count": 93,
   "metadata": {},
   "outputs": [
    {
     "name": "stdout",
     "output_type": "stream",
     "text": [
      "ElasticNet Model:\n",
      "MSE (Train):  1.332\n",
      "MSE (Test):  1.348\n",
      "R-Squared (Train):  0.346\n",
      "R-Squared (Test):  0.255\n"
     ]
    }
   ],
   "source": [
    "#running the elasticnet model with the selected features\n",
    "print('ElasticNet Model:')\n",
    "mse_train_en, mse_test_en, r_sq_train_en, r_sq_test_en = question2('ElasticNet', X_train_selected, y_train, X_test_selected, y_test)"
   ]
  },
  {
   "cell_type": "markdown",
   "metadata": {},
   "source": [
    "### Create a DF from the models"
   ]
  },
  {
   "cell_type": "code",
   "execution_count": 94,
   "metadata": {},
   "outputs": [
    {
     "data": {
      "text/html": [
       "<div>\n",
       "<style scoped>\n",
       "    .dataframe tbody tr th:only-of-type {\n",
       "        vertical-align: middle;\n",
       "    }\n",
       "\n",
       "    .dataframe tbody tr th {\n",
       "        vertical-align: top;\n",
       "    }\n",
       "\n",
       "    .dataframe thead th {\n",
       "        text-align: right;\n",
       "    }\n",
       "</style>\n",
       "<table border=\"1\" class=\"dataframe\">\n",
       "  <thead>\n",
       "    <tr style=\"text-align: right;\">\n",
       "      <th></th>\n",
       "      <th>Model</th>\n",
       "      <th>R Squared Train</th>\n",
       "      <th>R Squared Test</th>\n",
       "      <th>MSE Train</th>\n",
       "      <th>MSE Test</th>\n",
       "    </tr>\n",
       "  </thead>\n",
       "  <tbody>\n",
       "    <tr>\n",
       "      <th>0</th>\n",
       "      <td>Linear Regression</td>\n",
       "      <td>0.893322</td>\n",
       "      <td>0.759778</td>\n",
       "      <td>0.217366</td>\n",
       "      <td>0.434821</td>\n",
       "    </tr>\n",
       "    <tr>\n",
       "      <th>1</th>\n",
       "      <td>Ridge</td>\n",
       "      <td>0.884281</td>\n",
       "      <td>0.749199</td>\n",
       "      <td>0.235788</td>\n",
       "      <td>0.453969</td>\n",
       "    </tr>\n",
       "    <tr>\n",
       "      <th>2</th>\n",
       "      <td>Lasso</td>\n",
       "      <td>0.122136</td>\n",
       "      <td>0.072213</td>\n",
       "      <td>1.788726</td>\n",
       "      <td>1.679366</td>\n",
       "    </tr>\n",
       "    <tr>\n",
       "      <th>3</th>\n",
       "      <td>Random Forest</td>\n",
       "      <td>0.985730</td>\n",
       "      <td>0.830846</td>\n",
       "      <td>0.029077</td>\n",
       "      <td>0.306181</td>\n",
       "    </tr>\n",
       "    <tr>\n",
       "      <th>4</th>\n",
       "      <td>Gradient Boosting</td>\n",
       "      <td>0.936215</td>\n",
       "      <td>0.791773</td>\n",
       "      <td>0.129968</td>\n",
       "      <td>0.376907</td>\n",
       "    </tr>\n",
       "    <tr>\n",
       "      <th>5</th>\n",
       "      <td>ElasticNet</td>\n",
       "      <td>0.346111</td>\n",
       "      <td>0.255076</td>\n",
       "      <td>1.332356</td>\n",
       "      <td>1.348369</td>\n",
       "    </tr>\n",
       "  </tbody>\n",
       "</table>\n",
       "</div>"
      ],
      "text/plain": [
       "               Model  R Squared Train  R Squared Test  MSE Train  MSE Test\n",
       "0  Linear Regression         0.893322        0.759778   0.217366  0.434821\n",
       "1              Ridge         0.884281        0.749199   0.235788  0.453969\n",
       "2              Lasso         0.122136        0.072213   1.788726  1.679366\n",
       "3      Random Forest         0.985730        0.830846   0.029077  0.306181\n",
       "4  Gradient Boosting         0.936215        0.791773   0.129968  0.376907\n",
       "5         ElasticNet         0.346111        0.255076   1.332356  1.348369"
      ]
     },
     "execution_count": 94,
     "metadata": {},
     "output_type": "execute_result"
    }
   ],
   "source": [
    "# Create a dictionary to hold evauluation metrics from the models\n",
    "data = {\n",
    "\n",
    "    'Model': [\n",
    "        'Linear Regression',\n",
    "        'Ridge',\n",
    "        'Lasso',\n",
    "        'Random Forest',\n",
    "        'Gradient Boosting',\n",
    "        'ElasticNet'\n",
    "        ],\n",
    "\n",
    "\n",
    "    'R Squared Train': [\n",
    "        r_sq_train_lr,\n",
    "        r_sq_train_ridge,\n",
    "        r_sq_train_lasso,\n",
    "        r_sq_train_rf,\n",
    "        r_sq_train_gb,\n",
    "        r_sq_train_en\n",
    "        ],\n",
    "\n",
    "    'R Squared Test': [\n",
    "        r_sq_test_lr,\n",
    "        r_sq_test_ridge,\n",
    "        r_sq_test_lasso,\n",
    "        r_sq_test_rf,\n",
    "        r_sq_test_gb,\n",
    "        r_sq_test_en\n",
    "        ],\n",
    "\n",
    "    'MSE Train': [\n",
    "        mse_train_lr,\n",
    "        mse_train_ridge,\n",
    "        mse_train_lasso,\n",
    "        mse_train_rf,\n",
    "        mse_train_gb,\n",
    "        mse_train_en\n",
    "        ],\n",
    "\n",
    "    'MSE Test': [\n",
    "        mse_test_lr,\n",
    "        mse_test_ridge,\n",
    "        mse_test_lasso,\n",
    "        mse_test_rf,\n",
    "        mse_test_gb,\n",
    "        mse_test_en\n",
    "    ]\n",
    "    }\n",
    "\n",
    "# Create and display a dataframe\n",
    "results_df = pd.DataFrame(data)\n",
    "results_df"
   ]
  },
  {
   "cell_type": "markdown",
   "metadata": {},
   "source": [
    "> The linear regression model performs with a r-squared train of 0.893 and a r-squared test of 0.760. The ridge model also performs pretty well, and the random forest performs pretty well on training but not on test data. We will move forward with hypertuning the linear regression, the ridge, the random forest, and the elastic."
   ]
  },
  {
   "cell_type": "markdown",
   "metadata": {},
   "source": [
    "## Hyperparameter tuning"
   ]
  },
  {
   "cell_type": "markdown",
   "metadata": {},
   "source": [
    "### Model #1: Linear Regression\n",
    "\n",
    "This model does not have any useful parameters to tune, so we will not use hypertuning for it."
   ]
  },
  {
   "cell_type": "markdown",
   "metadata": {},
   "source": [
    "### Model #2: Ridge"
   ]
  },
  {
   "cell_type": "markdown",
   "metadata": {},
   "source": [
    "#### Testing out different alphas"
   ]
  },
  {
   "cell_type": "code",
   "execution_count": 95,
   "metadata": {},
   "outputs": [
    {
     "name": "stdout",
     "output_type": "stream",
     "text": [
      "Min MSE Test:  0.4344895504029588\n",
      "Index of Min MSE test:  8\n",
      "Best alpha:  0.06428073117284319\n"
     ]
    }
   ],
   "source": [
    "# Generate a random list of regularization parameters (alphas)\n",
    "# Smaller alphas --> weaker regularization, higher alphas --> stronger regularization\n",
    "alphas = np.logspace(-2, 8, 100)\n",
    "\n",
    "# Create a list where you will store the information\n",
    "model_ridge_coefficients = []\n",
    "mse_train_ridge_list = []\n",
    "mse_test_ridge_list = []\n",
    "\n",
    "# Try each set of alphas in your Ridge model\n",
    "for a in alphas:\n",
    "    # Step 1: Pick the model type by initializing a model object and set the alpha from the list as a model parameter\n",
    "    model_ridge = Ridge()\n",
    "    model_ridge.set_params(alpha=a)\n",
    "\n",
    "    # Step 2: Train the model by passing some data\n",
    "    model_ridge.fit(X_train_selected, y_train)\n",
    "\n",
    "    # Step 3: Get predictions\n",
    "    y_pred_train_ridge_experiment = model_ridge.predict(X_train_selected)\n",
    "    y_pred_test_ridge_experiment = model_ridge.predict(X_test_selected)\n",
    "\n",
    "    # Step 4: Evaluate the model performance\n",
    "    mse_train_ridge = mean_squared_error(y_train, y_pred_train_ridge_experiment)\n",
    "    mse_test_ridge = mean_squared_error(y_test, y_pred_test_ridge_experiment)\n",
    "\n",
    "    # Append all results to the lists so we could look at them and also plot them\n",
    "    model_ridge_coefficients.append(model_ridge.coef_)\n",
    "    mse_train_ridge_list.append(mse_train_ridge)\n",
    "    mse_test_ridge_list.append(mse_test_ridge)\n",
    "\n",
    "\n",
    "#Find and print the best alpha\n",
    "\n",
    "# Find the lowest value of MSE test value\n",
    "min_mse_test_ridge = np.min(mse_test_ridge_list)\n",
    "print(\"Min MSE Test: \", min_mse_test_ridge)\n",
    "\n",
    "# Find the index of the lowest MSE test value (use np.argmin)\n",
    "min_mse_test_ridge_index = np.argmin(mse_test_ridge_list)\n",
    "print(\"Index of Min MSE test: \", min_mse_test_ridge_index)\n",
    "\n",
    "# Call alphas with the index of the lowest MSE test value\n",
    "best_alpha = alphas[min_mse_test_ridge_index]\n",
    "print(\"Best alpha: \", best_alpha)"
   ]
  },
  {
   "cell_type": "markdown",
   "metadata": {},
   "source": [
    "#### Use the best alpha in the model"
   ]
  },
  {
   "cell_type": "code",
   "execution_count": 96,
   "metadata": {},
   "outputs": [
    {
     "name": "stdout",
     "output_type": "stream",
     "text": [
      "Best Ridge Train R^2:  0.893\n",
      "Best Ridge Test R^2:  0.76\n",
      "Best Ridge Train MSE:  0.218\n",
      "Best Ridge Test MSE:  0.434\n"
     ]
    }
   ],
   "source": [
    "# Step 1: Pick the model type by initializing a model object and set the alpha to the best alpha\n",
    "model_ridge_best_alpha = Ridge()\n",
    "model_ridge_best_alpha.set_params(alpha=best_alpha)\n",
    "\n",
    "# Step 2: Train the model by passing some data. Again, make sure to pass pre-processed X_train and X_test\n",
    "model_ridge_best_alpha.fit(X_train_selected, y_train)\n",
    "\n",
    "# Step 3: Get predictions\n",
    "y_pred_train_ridge_best_alpha = model_ridge_best_alpha.predict(X_train_selected)\n",
    "y_pred_test_ridge_best_alpha = model_ridge_best_alpha.predict(X_test_selected)\n",
    "\n",
    "# Step 4: Evaluate the model performance\n",
    "r_squared_train_ridge_best_alpha = model_ridge_best_alpha.score(X_train_selected, y_train)\n",
    "r_squared_test_ridge_best_alpha = model_ridge_best_alpha.score(X_test_selected, y_test)\n",
    "mse_train_ridge_best_alpha = mean_squared_error(y_train, y_pred_train_ridge_best_alpha)\n",
    "mse_test_ridge_best_alpha = mean_squared_error(y_test, y_pred_test_ridge_best_alpha)\n",
    "\n",
    "print(\"Best Ridge Train R^2: \", round(r_squared_train_ridge_best_alpha, 3))\n",
    "print(\"Best Ridge Test R^2: \", round(r_squared_test_ridge_best_alpha, 3))\n",
    "print(\"Best Ridge Train MSE: \", round(mse_train_ridge_best_alpha, 3))\n",
    "print(\"Best Ridge Test MSE: \", round(mse_test_ridge_best_alpha, 3))"
   ]
  },
  {
   "cell_type": "markdown",
   "metadata": {},
   "source": [
    "### GridsearchCV Function"
   ]
  },
  {
   "cell_type": "code",
   "execution_count": 97,
   "metadata": {},
   "outputs": [],
   "source": [
    "def grid_search_cv_regressor(model, X_train, y_train, X_test, y_test, parameters):\n",
    "    # Step 1: Initialize a GridSearchCV object by passing your model, parameters and cv=10\n",
    "    model_grid_search = GridSearchCV(model, parameters, cv=5)\n",
    "    \n",
    "    # Step 2: Train the GridSearchCV (it will build multiply models and return the best)\n",
    "    model_grid_search.fit(X_train_selected, y_train)\n",
    "\n",
    "    ## Step 2.1: Print the best parameters\n",
    "    print(\"Best Parameters:\", model_grid_search.best_params_)\n",
    "\n",
    "    ## Step 2.2: Save the best model into a separate variable to be used later\n",
    "    model_finetuned = model_grid_search.best_estimator_\n",
    "\n",
    "    # Steps 3-4: Evaluate the model performance\n",
    "\n",
    "    ## r-squared\n",
    "    r_squared_train_finetuned = model_finetuned.score(X_train_selected, y_train)\n",
    "    r_squared_test_finetuned = model_finetuned.score(X_test_selected, y_test)\n",
    "    \n",
    "    print('R-squared (Train):', round(r_squared_train_finetuned, 3))\n",
    "    print('R-squared (Test):', round(r_squared_test_finetuned, 3))\n",
    "    \n",
    "    return model_finetuned, r_squared_train_finetuned, r_squared_test_finetuned"
   ]
  },
  {
   "cell_type": "markdown",
   "metadata": {},
   "source": [
    "### References"
   ]
  },
  {
   "cell_type": "markdown",
   "metadata": {},
   "source": [
    "1. Lab 3 Solutions\n",
    "2. Lab 6 Solutions\n",
    "3. https://scikit-learn.org/stable/modules/generated/sklearn.ensemble.GradientBoostingRegressor.html\n",
    "4. https://scikit-learn.org/stable/modules/generated/sklearn.ensemble.RandomForestRegressor.html\n",
    "5. https://scikit-learn.org/stable/modules/generated/sklearn.ensemble.RandomForestRegressor.html\n",
    "6. Lab 8 Solutions"
   ]
  },
  {
   "cell_type": "markdown",
   "metadata": {},
   "source": []
  }
 ],
 "metadata": {
  "kernelspec": {
   "display_name": "base",
   "language": "python",
   "name": "python3"
  },
  "language_info": {
   "codemirror_mode": {
    "name": "ipython",
    "version": 3
   },
   "file_extension": ".py",
   "mimetype": "text/x-python",
   "name": "python",
   "nbconvert_exporter": "python",
   "pygments_lexer": "ipython3",
   "version": "3.11.5"
  }
 },
 "nbformat": 4,
 "nbformat_minor": 2
}
