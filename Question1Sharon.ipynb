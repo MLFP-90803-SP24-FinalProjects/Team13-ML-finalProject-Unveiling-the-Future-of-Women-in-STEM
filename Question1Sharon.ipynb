{
 "cells": [
  {
   "cell_type": "markdown",
   "metadata": {},
   "source": [
    "## Question 1: What is the relationship between various socio-economic factors and the share of female STEM graduates over time, and can these factors predict future trends in the proportion of women entering STEM fields?"
   ]
  },
  {
   "cell_type": "code",
   "execution_count": 1,
   "metadata": {},
   "outputs": [],
   "source": [
    "#import packages\n",
    "\n",
    "# general\n",
    "import numpy as np\n",
    "import pandas as pd\n",
    "import time\n",
    "\n",
    "# sklearn\n",
    "# sklearn\n",
    "from sklearn.linear_model import LinearRegression\n",
    "from sklearn.preprocessing import PolynomialFeatures\n",
    "from sklearn.model_selection import train_test_split, LeaveOneOut, KFold, cross_val_score\n",
    "from sklearn.metrics import mean_squared_error\n",
    "from sklearn.feature_selection import SequentialFeatureSelector\n",
    "from sklearn.ensemble import RandomForestRegressor\n",
    "from sklearn.linear_model import ElasticNet\n",
    "from sklearn.metrics import accuracy_score\n",
    "from sklearn.metrics import confusion_matrix, ConfusionMatrixDisplay\n",
    "from sklearn.ensemble import GradientBoostingRegressor\n",
    "from sklearn.linear_model import Ridge\n",
    "from sklearn.linear_model import Lasso\n",
    "from sklearn.metrics import classification_report\n",
    "from sklearn.model_selection import GridSearchCV\n",
    "from sklearn import svm\n",
    "import pandas as pd\n",
    "from sklearn.metrics import accuracy_score\n",
    "\n",
    "# visualization\n",
    "import seaborn as sns\n",
    "from matplotlib import pyplot as plt\n",
    "%matplotlib inline\n",
    "import numpy as np\n",
    "import pandas as pd\n",
    "import statsmodels.api as sm\n",
    "import matplotlib.pyplot as plt\n",
    "import statsmodels.formula.api as smf"
   ]
  },
  {
   "cell_type": "code",
   "execution_count": 2,
   "metadata": {},
   "outputs": [
    {
     "data": {
      "text/html": [
       "<div>\n",
       "<style scoped>\n",
       "    .dataframe tbody tr th:only-of-type {\n",
       "        vertical-align: middle;\n",
       "    }\n",
       "\n",
       "    .dataframe tbody tr th {\n",
       "        vertical-align: top;\n",
       "    }\n",
       "\n",
       "    .dataframe thead th {\n",
       "        text-align: right;\n",
       "    }\n",
       "</style>\n",
       "<table border=\"1\" class=\"dataframe\">\n",
       "  <thead>\n",
       "    <tr style=\"text-align: right;\">\n",
       "      <th></th>\n",
       "      <th>Unnamed: 0</th>\n",
       "      <th>Year</th>\n",
       "      <th>A woman can be head of household in the same way as a man (1=yes; 0=no)</th>\n",
       "      <th>A woman can choose where to live in the same way as a man (1=yes; 0=no)</th>\n",
       "      <th>A woman can get a job in the same way as a man (1=yes; 0=no)</th>\n",
       "      <th>A woman can obtain a judgment of divorce in the same way as a man (1=yes; 0=no)</th>\n",
       "      <th>A woman can open a bank account in the same way as a man (1=yes; 0=no)</th>\n",
       "      <th>A woman can register a business in the same way as a man (1=yes; 0=no)</th>\n",
       "      <th>A woman can sign a contract in the same way as a man (1=yes; 0=no)</th>\n",
       "      <th>A woman can travel outside her home in the same way as a man (1=yes; 0=no)</th>\n",
       "      <th>...</th>\n",
       "      <th>Country Name_Ukraine</th>\n",
       "      <th>Country Name_United Arab Emirates</th>\n",
       "      <th>Country Name_United Kingdom</th>\n",
       "      <th>Country Name_United States</th>\n",
       "      <th>Country Name_Uruguay</th>\n",
       "      <th>Country Name_Uzbekistan</th>\n",
       "      <th>Country Name_Venezuela, RB</th>\n",
       "      <th>Country Name_Viet Nam</th>\n",
       "      <th>Country Name_West Bank and Gaza</th>\n",
       "      <th>Country Name_Zimbabwe</th>\n",
       "    </tr>\n",
       "  </thead>\n",
       "  <tbody>\n",
       "    <tr>\n",
       "      <th>0</th>\n",
       "      <td>0</td>\n",
       "      <td>-1.0</td>\n",
       "      <td>1.0</td>\n",
       "      <td>1.0</td>\n",
       "      <td>1.0</td>\n",
       "      <td>1.0</td>\n",
       "      <td>1.0</td>\n",
       "      <td>1.0</td>\n",
       "      <td>0.0</td>\n",
       "      <td>1.0</td>\n",
       "      <td>...</td>\n",
       "      <td>0</td>\n",
       "      <td>0</td>\n",
       "      <td>0</td>\n",
       "      <td>0</td>\n",
       "      <td>0</td>\n",
       "      <td>0</td>\n",
       "      <td>0</td>\n",
       "      <td>0</td>\n",
       "      <td>0</td>\n",
       "      <td>0</td>\n",
       "    </tr>\n",
       "    <tr>\n",
       "      <th>1</th>\n",
       "      <td>1</td>\n",
       "      <td>-0.7</td>\n",
       "      <td>1.0</td>\n",
       "      <td>1.0</td>\n",
       "      <td>1.0</td>\n",
       "      <td>1.0</td>\n",
       "      <td>1.0</td>\n",
       "      <td>1.0</td>\n",
       "      <td>0.0</td>\n",
       "      <td>1.0</td>\n",
       "      <td>...</td>\n",
       "      <td>0</td>\n",
       "      <td>0</td>\n",
       "      <td>0</td>\n",
       "      <td>0</td>\n",
       "      <td>0</td>\n",
       "      <td>0</td>\n",
       "      <td>0</td>\n",
       "      <td>0</td>\n",
       "      <td>0</td>\n",
       "      <td>0</td>\n",
       "    </tr>\n",
       "    <tr>\n",
       "      <th>2</th>\n",
       "      <td>2</td>\n",
       "      <td>0.1</td>\n",
       "      <td>1.0</td>\n",
       "      <td>1.0</td>\n",
       "      <td>1.0</td>\n",
       "      <td>1.0</td>\n",
       "      <td>1.0</td>\n",
       "      <td>1.0</td>\n",
       "      <td>1.0</td>\n",
       "      <td>1.0</td>\n",
       "      <td>...</td>\n",
       "      <td>0</td>\n",
       "      <td>0</td>\n",
       "      <td>0</td>\n",
       "      <td>0</td>\n",
       "      <td>0</td>\n",
       "      <td>0</td>\n",
       "      <td>0</td>\n",
       "      <td>0</td>\n",
       "      <td>0</td>\n",
       "      <td>0</td>\n",
       "    </tr>\n",
       "    <tr>\n",
       "      <th>3</th>\n",
       "      <td>3</td>\n",
       "      <td>0.5</td>\n",
       "      <td>1.0</td>\n",
       "      <td>1.0</td>\n",
       "      <td>1.0</td>\n",
       "      <td>1.0</td>\n",
       "      <td>1.0</td>\n",
       "      <td>1.0</td>\n",
       "      <td>1.0</td>\n",
       "      <td>1.0</td>\n",
       "      <td>...</td>\n",
       "      <td>0</td>\n",
       "      <td>0</td>\n",
       "      <td>0</td>\n",
       "      <td>0</td>\n",
       "      <td>0</td>\n",
       "      <td>0</td>\n",
       "      <td>0</td>\n",
       "      <td>0</td>\n",
       "      <td>0</td>\n",
       "      <td>0</td>\n",
       "    </tr>\n",
       "    <tr>\n",
       "      <th>4</th>\n",
       "      <td>4</td>\n",
       "      <td>0.6</td>\n",
       "      <td>1.0</td>\n",
       "      <td>1.0</td>\n",
       "      <td>1.0</td>\n",
       "      <td>1.0</td>\n",
       "      <td>1.0</td>\n",
       "      <td>1.0</td>\n",
       "      <td>1.0</td>\n",
       "      <td>1.0</td>\n",
       "      <td>...</td>\n",
       "      <td>0</td>\n",
       "      <td>0</td>\n",
       "      <td>0</td>\n",
       "      <td>0</td>\n",
       "      <td>0</td>\n",
       "      <td>0</td>\n",
       "      <td>0</td>\n",
       "      <td>0</td>\n",
       "      <td>0</td>\n",
       "      <td>0</td>\n",
       "    </tr>\n",
       "  </tbody>\n",
       "</table>\n",
       "<p>5 rows × 189 columns</p>\n",
       "</div>"
      ],
      "text/plain": [
       "   Unnamed: 0  Year  \\\n",
       "0           0  -1.0   \n",
       "1           1  -0.7   \n",
       "2           2   0.1   \n",
       "3           3   0.5   \n",
       "4           4   0.6   \n",
       "\n",
       "   A woman can be head of household in the same way as a man (1=yes; 0=no)  \\\n",
       "0                                                1.0                         \n",
       "1                                                1.0                         \n",
       "2                                                1.0                         \n",
       "3                                                1.0                         \n",
       "4                                                1.0                         \n",
       "\n",
       "   A woman can choose where to live in the same way as a man (1=yes; 0=no)  \\\n",
       "0                                                1.0                         \n",
       "1                                                1.0                         \n",
       "2                                                1.0                         \n",
       "3                                                1.0                         \n",
       "4                                                1.0                         \n",
       "\n",
       "   A woman can get a job in the same way as a man (1=yes; 0=no)  \\\n",
       "0                                                1.0              \n",
       "1                                                1.0              \n",
       "2                                                1.0              \n",
       "3                                                1.0              \n",
       "4                                                1.0              \n",
       "\n",
       "   A woman can obtain a judgment of divorce in the same way as a man (1=yes; 0=no)  \\\n",
       "0                                                1.0                                 \n",
       "1                                                1.0                                 \n",
       "2                                                1.0                                 \n",
       "3                                                1.0                                 \n",
       "4                                                1.0                                 \n",
       "\n",
       "   A woman can open a bank account in the same way as a man (1=yes; 0=no)  \\\n",
       "0                                                1.0                        \n",
       "1                                                1.0                        \n",
       "2                                                1.0                        \n",
       "3                                                1.0                        \n",
       "4                                                1.0                        \n",
       "\n",
       "   A woman can register a business in the same way as a man (1=yes; 0=no)  \\\n",
       "0                                                1.0                        \n",
       "1                                                1.0                        \n",
       "2                                                1.0                        \n",
       "3                                                1.0                        \n",
       "4                                                1.0                        \n",
       "\n",
       "   A woman can sign a contract in the same way as a man (1=yes; 0=no)  \\\n",
       "0                                                0.0                    \n",
       "1                                                0.0                    \n",
       "2                                                1.0                    \n",
       "3                                                1.0                    \n",
       "4                                                1.0                    \n",
       "\n",
       "   A woman can travel outside her home in the same way as a man (1=yes; 0=no)  \\\n",
       "0                                                1.0                            \n",
       "1                                                1.0                            \n",
       "2                                                1.0                            \n",
       "3                                                1.0                            \n",
       "4                                                1.0                            \n",
       "\n",
       "   ...  Country Name_Ukraine  Country Name_United Arab Emirates  \\\n",
       "0  ...                     0                                  0   \n",
       "1  ...                     0                                  0   \n",
       "2  ...                     0                                  0   \n",
       "3  ...                     0                                  0   \n",
       "4  ...                     0                                  0   \n",
       "\n",
       "   Country Name_United Kingdom  Country Name_United States  \\\n",
       "0                            0                           0   \n",
       "1                            0                           0   \n",
       "2                            0                           0   \n",
       "3                            0                           0   \n",
       "4                            0                           0   \n",
       "\n",
       "   Country Name_Uruguay  Country Name_Uzbekistan  Country Name_Venezuela, RB  \\\n",
       "0                     0                        0                           0   \n",
       "1                     0                        0                           0   \n",
       "2                     0                        0                           0   \n",
       "3                     0                        0                           0   \n",
       "4                     0                        0                           0   \n",
       "\n",
       "   Country Name_Viet Nam  Country Name_West Bank and Gaza  \\\n",
       "0                      0                                0   \n",
       "1                      0                                0   \n",
       "2                      0                                0   \n",
       "3                      0                                0   \n",
       "4                      0                                0   \n",
       "\n",
       "   Country Name_Zimbabwe  \n",
       "0                      0  \n",
       "1                      0  \n",
       "2                      0  \n",
       "3                      0  \n",
       "4                      0  \n",
       "\n",
       "[5 rows x 189 columns]"
      ]
     },
     "execution_count": 2,
     "metadata": {},
     "output_type": "execute_result"
    }
   ],
   "source": [
    "#load in the dataset\n",
    "df = pd.read_csv('transformed_data.csv')\n",
    "df.head()"
   ]
  },
  {
   "cell_type": "code",
   "execution_count": 3,
   "metadata": {},
   "outputs": [],
   "source": [
    "# # create X and y dataframes\n",
    "X = df.drop(columns=['Year', 'Share of STEM Graduates'])  # Features except Year and Share of STEM Graduates\n",
    "y = df['Share of STEM Graduates']  # Target variable (proportion of female STEM graduates)"
   ]
  },
  {
   "cell_type": "code",
   "execution_count": 4,
   "metadata": {},
   "outputs": [
    {
     "data": {
      "text/plain": [
       "396   -0.724499\n",
       "227    0.373087\n",
       "673    0.698001\n",
       "702    0.690436\n",
       "643   -0.198359\n",
       "         ...   \n",
       "35    -0.187206\n",
       "870   -2.901920\n",
       "503   -0.406601\n",
       "472    0.413398\n",
       "211    0.321537\n",
       "Name: Share of STEM Graduates, Length: 215, dtype: float64"
      ]
     },
     "execution_count": 4,
     "metadata": {},
     "output_type": "execute_result"
    }
   ],
   "source": [
    "# #split data into train and test\n",
    "X_train, X_test, y_train, y_test = train_test_split(X, y, test_size=0.2, random_state=17)\n",
    "y_test"
   ]
  },
  {
   "cell_type": "markdown",
   "metadata": {},
   "source": [
    "## Choosing the Best parameters"
   ]
  },
  {
   "cell_type": "markdown",
   "metadata": {},
   "source": [
    "The below code was not running on my computer and causing it to shutdown multiple times. So, after talking to Meghan, our TA, we are commenting out the feature seletion code and creating a csv file with the best features ran by my teammate."
   ]
  },
  {
   "cell_type": "code",
   "execution_count": 5,
   "metadata": {},
   "outputs": [],
   "source": [
    "# #initialize sfs, use linear regression as the baseline model for this question\n",
    "# sfs = SequentialFeatureSelector(estimator = LinearRegression(),\n",
    "#                                 n_features_to_select = \"auto\",\n",
    "#                                 direction = 'forward',\n",
    "#                                 scoring = 'neg_mean_squared_error',\n",
    "#                                 cv = 2)\n",
    "\n",
    "# #fit the data to sfs\n",
    "# sfs = sfs.fit(X_train, y_train)\n",
    "\n",
    "# # #retrieve the and print the names of the selected features\n",
    "# # feature_names = np.array(df.columns.difference(['Share of STEM Graduates']))\n",
    "# # selected_feature_names = feature_names[sfs.get_support()].tolist()\n",
    "# # print(\"Selected features:\", selected_feature_names)\n",
    "\n",
    "# # # transform X_train and X_test to include only the selected features\n",
    "# X_train_selected = sfs.transform(X_train)\n",
    "# X_test_selected = sfs.transform(X_test)\n",
    "\n",
    "# display the shape of transformed X_train_selected and X_test_selected\n",
    "# print(\"Transformed X_train shape:\", X_train_selected.shape)\n",
    "# print(\"Transformed X_test shape:\", X_test_selected.shape)"
   ]
  },
  {
   "cell_type": "code",
   "execution_count": 6,
   "metadata": {},
   "outputs": [],
   "source": [
    "#X_train_selected_df = pd.DataFrame(X_train_selected, columns = selected_feature_names)\n",
    "#X_train_selected_df.to_csv('X_train_selected.csv')"
   ]
  },
  {
   "cell_type": "code",
   "execution_count": 7,
   "metadata": {},
   "outputs": [],
   "source": [
    "#X_test_selected_df = pd.DataFrame(X_test_selected, columns = selected_feature_names)\n",
    "#X_test_selected_df.to_csv('X_test_selected.csv')"
   ]
  },
  {
   "cell_type": "code",
   "execution_count": 8,
   "metadata": {},
   "outputs": [
    {
     "data": {
      "text/plain": [
       "(856, 1)"
      ]
     },
     "execution_count": 8,
     "metadata": {},
     "output_type": "execute_result"
    }
   ],
   "source": [
    "X_train_selected = pd.read_csv('X_train_selected.csv')\n",
    "X_test_selected = pd.read_csv('X_test_selected.csv')\n",
    "y_train = pd.read_csv('y_train.csv', index_col=0)\n",
    "y_test = pd.read_csv('y_test.csv', index_col=0)\n",
    "\n",
    "y_train\n",
    "y_train.shape"
   ]
  },
  {
   "cell_type": "code",
   "execution_count": 9,
   "metadata": {},
   "outputs": [
    {
     "name": "stdout",
     "output_type": "stream",
     "text": [
      "Training set shape: (856, 187) (856, 1)\n",
      "Testing set shape: (215, 187) (215, 1)\n"
     ]
    }
   ],
   "source": [
    "# Check the shapes of the training and testing sets to ensure consistency\n",
    "print(\"Training set shape:\", X_train.shape, y_train.shape)\n",
    "print(\"Testing set shape:\", X_test.shape, y_test.shape)\n",
    "# X_train_selected_array = X_train_selected.to_numpy()\n",
    "# X_train_selected_array\n",
    "# X_test_selected_array = X_test_selected.to_numpy()\n",
    "# X_test_selected_array\n"
   ]
  },
  {
   "cell_type": "markdown",
   "metadata": {},
   "source": [
    "## Initial Baseline using Linear Regression"
   ]
  },
  {
   "cell_type": "code",
   "execution_count": 10,
   "metadata": {},
   "outputs": [
    {
     "name": "stdout",
     "output_type": "stream",
     "text": [
      "MSE (Train):  0.134\n",
      "MSE (Test):  0.222\n",
      "R-Squared (Train):  0.828\n",
      "R-Squared (Test):  0.68\n",
      "Coefficients:\n",
      "                                               Feature  Coefficient\n",
      "0                                           Unnamed: 0    -0.007898\n",
      "1    A woman can be head of household in the same w...    -0.327750\n",
      "2    A woman can choose where to live in the same w...    -1.672310\n",
      "3    A woman can get a job in the same way as a man...     0.142569\n",
      "4    A woman can obtain a judgment of divorce in th...    -0.159842\n",
      "..                                                 ...          ...\n",
      "182                            Country Name_Uzbekistan     7.444480\n",
      "183                         Country Name_Venezuela, RB     6.494867\n",
      "184                              Country Name_Viet Nam     7.757411\n",
      "185                    Country Name_West Bank and Gaza     4.765331\n",
      "186                              Country Name_Zimbabwe     8.858079\n",
      "\n",
      "[187 rows x 2 columns]\n"
     ]
    }
   ],
   "source": [
    "\n",
    "# Defining features and target variable\n",
    "X = df.drop(columns=['Year', 'Share of STEM Graduates'])  # Features except Year and Share of STEM Graduates\n",
    "y = df['Share of STEM Graduates']  # Target variable (proportion of female STEM graduates)\n",
    "\n",
    "# Splitting the data into training and testing sets\n",
    "X_train, X_test, y_train, y_test = train_test_split(X, y, test_size=0.2, random_state=42)\n",
    "\n",
    "# Creating and training the linear regression model\n",
    "model = LinearRegression()\n",
    "model.fit(X_train, y_train)\n",
    "\n",
    "#making predictions on the training and test sets\n",
    "y_pred_train = model.predict(X_train)\n",
    "y_pred_test = model.predict(X_test)\n",
    "\n",
    "#evaluate the model using MSE and R squared\n",
    "mse_train = mean_squared_error(y_train,y_pred_train)\n",
    "mse_test = mean_squared_error(y_test,y_pred_test)\n",
    "r_sq_train = model.score(X_train, y_train)\n",
    "r_sq_test = model.score(X_test, y_test)\n",
    "\n",
    "#print the MSE and R_squared\n",
    "print('MSE (Train): ', round(mse_train, 3))\n",
    "print('MSE (Test): ', round(mse_test, 3))\n",
    "print('R-Squared (Train): ', round(r_sq_train, 3))\n",
    "print('R-Squared (Test): ', round(r_sq_test, 3))\n",
    "\n",
    "# Getting the coefficients (indicating the importance of each feature)\n",
    "coefficients = pd.DataFrame({'Feature': X.columns, 'Coefficient': model.coef_})\n",
    "print(\"Coefficients:\")\n",
    "print(coefficients)\n"
   ]
  },
  {
   "cell_type": "markdown",
   "metadata": {},
   "source": [
    "The initial model performs reasonably well with an r-squared of 0.799 for the training data and 0.522 for the test data. However, the lower test r-squared compared to the training r-squared suggests a potential issue with overfitting. Furthermore, the mean squared error (MSE) of the test data is significantly higher than that of the training data. While this basic linear regression model shows satisfactory performance, exploring more sophisticated models will provide insights into potential improvements."
   ]
  },
  {
   "cell_type": "markdown",
   "metadata": {},
   "source": [
    "## Defining the function for model selection"
   ]
  },
  {
   "cell_type": "code",
   "execution_count": 11,
   "metadata": {},
   "outputs": [],
   "source": [
    "def question1(model_type, X_train, y_train, X_test, y_test):\n",
    "\n",
    "    # Step 1: Initialize a model object\n",
    "    if model_type == 'Linear Regression':\n",
    "      model = LinearRegression()\n",
    "    elif model_type == 'Ridge':\n",
    "      model = Ridge()\n",
    "    elif model_type == 'Random Forest':\n",
    "      model = RandomForestRegressor()\n",
    "    elif model_type == 'SVM':\n",
    "      model = svm.LinearSVR()\n",
    "    else:\n",
    "      print('Please specify the model type')\n",
    "\n",
    "    # Step 2: Train the model\n",
    "    model.fit(X_train, y_train)\n",
    "\n",
    "    # Step 3: Make predictions\n",
    "    y_pred_train = model.predict(X_train)\n",
    "    y_pred_test = model.predict(X_test)\n",
    "\n",
    "    # Step 4: Evaluate the model performance\n",
    "\n",
    "    ## MSE\n",
    "    #evaluate the model using MSE and R squared\n",
    "    mse_train = mean_squared_error(y_train,y_pred_train)\n",
    "    mse_test = mean_squared_error(y_test,y_pred_test)\n",
    "    r_sq_train = model.score(X_train, y_train)\n",
    "    r_sq_test = model.score(X_test, y_test)\n",
    "\n",
    "    #print the MSE and R_squared\n",
    "    print('MSE (Train): ', round(mse_train, 3))\n",
    "    print('MSE (Test): ', round(mse_test, 3))\n",
    "    print('R-Squared (Train): ', round(r_sq_train, 3))\n",
    "    print('R-Squared (Test): ', round(r_sq_test, 3))\n",
    "\n",
    "    return mse_train, mse_test, r_sq_train, r_sq_test"
   ]
  },
  {
   "cell_type": "markdown",
   "metadata": {},
   "source": [
    "### Model 1: Linear Regression"
   ]
  },
  {
   "cell_type": "code",
   "execution_count": 18,
   "metadata": {
    "scrolled": true
   },
   "outputs": [
    {
     "name": "stdout",
     "output_type": "stream",
     "text": [
      "Linear Regression:\n",
      "MSE (Train):  0.68\n",
      "MSE (Test):  1.453052901042815e+18\n",
      "R-Squared (Train):  0.128\n",
      "R-Squared (Test):  -2.0914972599417257e+18\n"
     ]
    }
   ],
   "source": [
    "#running the model with the selected features\n",
    "print('Linear Regression:')\n",
    "mse_train_lr, mse_test_lr, r_sq_train_lr, r_sq_test_lr = question1('Linear Regression', X_train_selected, y_train, X_test_selected, y_test)"
   ]
  },
  {
   "cell_type": "markdown",
   "metadata": {},
   "source": [
    "### Model 2: Ridge"
   ]
  },
  {
   "cell_type": "code",
   "execution_count": 26,
   "metadata": {},
   "outputs": [
    {
     "name": "stdout",
     "output_type": "stream",
     "text": [
      "Ridge Model:\n",
      "MSE (Train):  0.173\n",
      "MSE (Test):  0.267\n",
      "R-Squared (Train):  0.778\n",
      "R-Squared (Test):  0.616\n",
      "\n",
      "\n"
     ]
    }
   ],
   "source": [
    "# Define the alpha parameter for Ridge regularization\n",
    "#running the ridge model with the selected features\n",
    "print('Ridge Model:')\n",
    "mse_train_ridge, mse_test_ridge, r_sq_train_ridge, r_sq_test_ridge = question1('Ridge', X_train, y_train, X_test, y_test)\n",
    "print('\\n')"
   ]
  },
  {
   "cell_type": "markdown",
   "metadata": {},
   "source": [
    "### Model 3: Random Forrest"
   ]
  },
  {
   "cell_type": "code",
   "execution_count": 32,
   "metadata": {},
   "outputs": [
    {
     "name": "stdout",
     "output_type": "stream",
     "text": [
      "Random Forest Regressor:\n",
      "MSE (Train):  0.12\n",
      "MSE (Test):  0.793\n",
      "R-Squared (Train):  0.846\n",
      "R-Squared (Test):  -0.141\n",
      "\n",
      "\n"
     ]
    }
   ],
   "source": [
    "#reshape the target variable\n",
    "y_train_ensemble = y_train.values.ravel()\n",
    "y_test_ensemble = y_test.values.ravel()\n",
    "\n",
    "#running the random forest model with the selected features\n",
    "print('Random Forest Regressor:')\n",
    "mse_train_rf, mse_test_rf, r_sq_train_rf, r_sq_test_rf = question1('Random Forest', X_train_selected, y_train_ensemble, X_test_selected, y_test_ensemble)\n",
    "print('\\n')\n"
   ]
  },
  {
   "cell_type": "markdown",
   "metadata": {},
   "source": [
    "### Model 4:  SVM"
   ]
  },
  {
   "cell_type": "code",
   "execution_count": 16,
   "metadata": {},
   "outputs": [
    {
     "name": "stdout",
     "output_type": "stream",
     "text": [
      "SVM model:\n",
      "MSE (Train):  5.166\n",
      "MSE (Test):  4.969\n",
      "R-Squared (Train):  -5.626\n",
      "R-Squared (Test):  -6.152\n"
     ]
    },
    {
     "name": "stderr",
     "output_type": "stream",
     "text": [
      "/Users/sharonjohn/anaconda3/lib/python3.10/site-packages/sklearn/svm/_base.py:1244: ConvergenceWarning: Liblinear failed to converge, increase the number of iterations.\n",
      "  warnings.warn(\n"
     ]
    }
   ],
   "source": [
    "#running the elasticnet model with the selected features\n",
    "print('SVM model:')\n",
    "mse_train_svm, mse_test_svm, r_sq_train_svm, r_sq_test_svm = question1('SVM', X_train, y_train.values.ravel(), X_test, y_test.values.ravel())"
   ]
  },
  {
   "cell_type": "markdown",
   "metadata": {},
   "source": [
    "## Dataframe printing out all the models results"
   ]
  },
  {
   "cell_type": "code",
   "execution_count": 17,
   "metadata": {},
   "outputs": [
    {
     "data": {
      "text/html": [
       "<div>\n",
       "<style scoped>\n",
       "    .dataframe tbody tr th:only-of-type {\n",
       "        vertical-align: middle;\n",
       "    }\n",
       "\n",
       "    .dataframe tbody tr th {\n",
       "        vertical-align: top;\n",
       "    }\n",
       "\n",
       "    .dataframe thead th {\n",
       "        text-align: right;\n",
       "    }\n",
       "</style>\n",
       "<table border=\"1\" class=\"dataframe\">\n",
       "  <thead>\n",
       "    <tr style=\"text-align: right;\">\n",
       "      <th></th>\n",
       "      <th>Model</th>\n",
       "      <th>R Squared Train</th>\n",
       "      <th>R Squared Test</th>\n",
       "      <th>MSE Train</th>\n",
       "      <th>MSE Test</th>\n",
       "    </tr>\n",
       "  </thead>\n",
       "  <tbody>\n",
       "    <tr>\n",
       "      <th>0</th>\n",
       "      <td>Linear Regression</td>\n",
       "      <td>0.127546</td>\n",
       "      <td>-2.091497e+18</td>\n",
       "      <td>0.680263</td>\n",
       "      <td>1.453053e+18</td>\n",
       "    </tr>\n",
       "    <tr>\n",
       "      <th>1</th>\n",
       "      <td>Ridge</td>\n",
       "      <td>0.120696</td>\n",
       "      <td>-1.568315e-01</td>\n",
       "      <td>0.685604</td>\n",
       "      <td>8.037005e-01</td>\n",
       "    </tr>\n",
       "    <tr>\n",
       "      <th>2</th>\n",
       "      <td>Random Forest</td>\n",
       "      <td>0.845023</td>\n",
       "      <td>-1.781536e-01</td>\n",
       "      <td>0.120838</td>\n",
       "      <td>8.185139e-01</td>\n",
       "    </tr>\n",
       "    <tr>\n",
       "      <th>3</th>\n",
       "      <td>SVM</td>\n",
       "      <td>-5.626141</td>\n",
       "      <td>-6.152021e+00</td>\n",
       "      <td>5.166481</td>\n",
       "      <td>4.968816e+00</td>\n",
       "    </tr>\n",
       "  </tbody>\n",
       "</table>\n",
       "</div>"
      ],
      "text/plain": [
       "               Model  R Squared Train  R Squared Test  MSE Train      MSE Test\n",
       "0  Linear Regression         0.127546   -2.091497e+18   0.680263  1.453053e+18\n",
       "1              Ridge         0.120696   -1.568315e-01   0.685604  8.037005e-01\n",
       "2      Random Forest         0.845023   -1.781536e-01   0.120838  8.185139e-01\n",
       "3                SVM        -5.626141   -6.152021e+00   5.166481  4.968816e+00"
      ]
     },
     "execution_count": 17,
     "metadata": {},
     "output_type": "execute_result"
    }
   ],
   "source": [
    "# Create a dictionary to hold evauluation metrics from the models\n",
    "data = {\n",
    "\n",
    "    'Model': [\n",
    "        'Linear Regression',\n",
    "        'Ridge',\n",
    "        'Random Forest',\n",
    "        'SVM'\n",
    "        ],\n",
    "\n",
    "\n",
    "    'R Squared Train': [\n",
    "        r_sq_train_lr,\n",
    "        r_sq_train_ridge,\n",
    "        r_sq_train_rf,\n",
    "        r_sq_train_svm\n",
    "        ],\n",
    "\n",
    "    'R Squared Test': [\n",
    "        r_sq_test_lr,\n",
    "        r_sq_test_ridge,\n",
    "        r_sq_test_rf,\n",
    "        r_sq_test_svm\n",
    "        ],\n",
    "\n",
    "    'MSE Train': [\n",
    "        mse_train_lr,\n",
    "        mse_train_ridge,\n",
    "        mse_train_rf,\n",
    "        mse_train_svm\n",
    "        ],\n",
    "    \n",
    "    \n",
    "    'MSE Test': [\n",
    "        mse_test_lr,\n",
    "        mse_test_ridge,\n",
    "        mse_test_rf,\n",
    "        mse_test_svm\n",
    "    ]\n",
    "    }\n",
    "\n",
    "# Create and display a dataframe\n",
    "results_df = pd.DataFrame(data)\n",
    "results_df"
   ]
  },
  {
   "cell_type": "markdown",
   "metadata": {},
   "source": [
    "Result: None of the models performed well with the selected features suprisingly. But from all of them Ridge performed the best despite the overfitting"
   ]
  },
  {
   "cell_type": "markdown",
   "metadata": {},
   "source": [
    "## Tuning for hyperparameters"
   ]
  },
  {
   "cell_type": "markdown",
   "metadata": {},
   "source": [
    "### Model 1: Linear Regression "
   ]
  },
  {
   "cell_type": "markdown",
   "metadata": {},
   "source": [
    "There is no use for hypertuning linear regressions as it does not provide any useful parameters to tune"
   ]
  },
  {
   "cell_type": "markdown",
   "metadata": {},
   "source": [
    "### Model 2: Ridge"
   ]
  },
  {
   "cell_type": "code",
   "execution_count": 20,
   "metadata": {},
   "outputs": [],
   "source": [
    "#Testing for random alphas\n",
    "# Generate a random list of regularization parameters (alphas)\n",
    "# Smaller alphas --> weaker regularization, higher alphas --> stronger regularization\n",
    "alphas = np.logspace(-2, 8, 100)\n",
    "\n",
    "# Create a list where you will store the information\n",
    "model_ridge_coefficients = []\n",
    "mse_train_ridge_list = []\n",
    "mse_test_ridge_list = []\n",
    "\n",
    "# Try each set of alphas in your Ridge model\n",
    "for a in alphas:\n",
    "    #Pick the model type by initializing a model object and set the alpha from the list as a model parameter\n",
    "    model_ridge = Ridge()\n",
    "    model_ridge.set_params(alpha=a)\n",
    "\n",
    "    #Train the model by passing some data\n",
    "    model_ridge.fit(X_train_selected, y_train)\n",
    "\n",
    "    # Get predictions\n",
    "    y_pred_train_ridge_experiment = model_ridge.predict(X_train_selected)\n",
    "    y_pred_test_ridge_experiment = model_ridge.predict(X_test_selected)\n",
    "\n",
    "    #Evaluate the model performance\n",
    "    mse_train_ridge = mean_squared_error(y_train, y_pred_train_ridge_experiment)\n",
    "    mse_test_ridge = mean_squared_error(y_test, y_pred_test_ridge_experiment)\n",
    "\n",
    "    # Append all results to the lists so we could look at them and also plot them\n",
    "    model_ridge_coefficients.append(model_ridge.coef_)\n",
    "    mse_train_ridge_list.append(mse_train_ridge)\n",
    "    mse_test_ridge_list.append(mse_test_ridge)\n"
   ]
  },
  {
   "cell_type": "code",
   "execution_count": 21,
   "metadata": {},
   "outputs": [
    {
     "name": "stdout",
     "output_type": "stream",
     "text": [
      "Min MSE Test:  0.6950633547170354\n",
      "Index of Min MSE test:  99\n",
      "Best alpha:  100000000.0\n"
     ]
    }
   ],
   "source": [
    "#Find and print the best alpha\n",
    "\n",
    "# Find the lowest value of MSE test value\n",
    "min_mse_test_ridge = np.min(mse_test_ridge_list)\n",
    "print(\"Min MSE Test: \", min_mse_test_ridge)\n",
    "\n",
    "# Find the index of the lowest MSE test value (use np.argmin)\n",
    "min_mse_test_ridge_index = np.argmin(mse_test_ridge_list)\n",
    "print(\"Index of Min MSE test: \", min_mse_test_ridge_index)\n",
    "\n",
    "# Call alphas with the index of the lowest MSE test value\n",
    "best_alpha = alphas[min_mse_test_ridge_index]\n",
    "print(\"Best alpha: \", best_alpha)"
   ]
  },
  {
   "cell_type": "markdown",
   "metadata": {},
   "source": [
    "### Picking the best alpha in the model"
   ]
  },
  {
   "cell_type": "code",
   "execution_count": 22,
   "metadata": {},
   "outputs": [
    {
     "name": "stdout",
     "output_type": "stream",
     "text": [
      "Best Ridge Train R^2:  0.002\n",
      "Best Ridge Test R^2:  -0.0\n",
      "Best Ridge Train MSE:  0.778\n",
      "Best Ridge Test MSE:  0.695\n"
     ]
    }
   ],
   "source": [
    "# Pick the model type by initializing a model object and set the alpha to the best alpha\n",
    "model_ridge_best_alpha = Ridge()\n",
    "model_ridge_best_alpha.set_params(alpha=best_alpha)\n",
    "\n",
    "# Train the model by passing some data\n",
    "model_ridge_best_alpha.fit(X_train_selected, y_train)\n",
    "\n",
    "# Get predictions\n",
    "y_pred_train_ridge_best_alpha = model_ridge_best_alpha.predict(X_train_selected)\n",
    "y_pred_test_ridge_best_alpha = model_ridge_best_alpha.predict(X_test_selected)\n",
    "\n",
    "# Evaluate the model performance\n",
    "r_squared_train_ridge_best_alpha = model_ridge_best_alpha.score(X_train_selected, y_train)\n",
    "r_squared_test_ridge_best_alpha = model_ridge_best_alpha.score(X_test_selected, y_test)\n",
    "mse_train_ridge_best_alpha = mean_squared_error(y_train, y_pred_train_ridge_best_alpha)\n",
    "mse_test_ridge_best_alpha = mean_squared_error(y_test, y_pred_test_ridge_best_alpha)\n",
    "\n",
    "print(\"Best Ridge Train R^2: \", round(r_squared_train_ridge_best_alpha, 3))\n",
    "print(\"Best Ridge Test R^2: \", round(r_squared_test_ridge_best_alpha, 3))\n",
    "print(\"Best Ridge Train MSE: \", round(mse_train_ridge_best_alpha, 3))\n",
    "print(\"Best Ridge Test MSE: \", round(mse_test_ridge_best_alpha, 3))"
   ]
  },
  {
   "cell_type": "markdown",
   "metadata": {},
   "source": [
    "### Model 3: Random Forrest"
   ]
  },
  {
   "cell_type": "code",
   "execution_count": 23,
   "metadata": {},
   "outputs": [
    {
     "name": "stdout",
     "output_type": "stream",
     "text": [
      "Best Parameters: {'max_depth': 5, 'max_features': 5, 'min_samples_split': 5}\n",
      "R-squared (Train): 0.079\n",
      "R-squared (Test): -0.005\n",
      "Finetuned Ridge MSE (Train):  0.718\n",
      "Finetuned Ridge MSE (Test):  0.698\n"
     ]
    }
   ],
   "source": [
    "# Put the parameters options\n",
    "parameters = {'max_depth': [5, 10, 20],\n",
    "              'max_features': [5, 10, 20],\n",
    "              'min_samples_split': [2, 5, 10]}\n",
    "\n",
    "# Initialize the model\n",
    "rfr = RandomForestRegressor()\n",
    "\n",
    "#Initialize a GridSearchCV object by passing your model, parameters\n",
    "model_grid_search = GridSearchCV(rfr, parameters, cv=5)\n",
    "\n",
    "#Train the GridSearchCV\n",
    "model_grid_search.fit(X_train_selected, y_train_ensemble)\n",
    "\n",
    "##Print the best parameters\n",
    "print(\"Best Parameters:\", model_grid_search.best_params_)\n",
    "\n",
    "## Save the best model into a separate variable to be used later\n",
    "rfr_finetuned = model_grid_search.best_estimator_\n",
    "\n",
    "#Evaluate the model\n",
    "\n",
    "# Get predictions\n",
    "y_pred_train_rfr_finetuned = rfr_finetuned.predict(X_train_selected)\n",
    "y_pred_test_rfr_finetuned = rfr_finetuned.predict(X_test_selected)\n",
    "\n",
    "## r-squared\n",
    "r_squared_train_rfr_finetuned = rfr_finetuned.score(X_train_selected, y_train_ensemble)\n",
    "r_squared_test_rfr_finetuned = rfr_finetuned.score(X_test_selected, y_test_ensemble)\n",
    "\n",
    "## mse\n",
    "mse_train_rfr_finetuned = mean_squared_error(y_train_ensemble, y_pred_train_rfr_finetuned)\n",
    "mse_test_rfr_finetuned = mean_squared_error(y_test_ensemble, y_pred_test_rfr_finetuned)\n",
    "\n",
    "print('R-squared (Train):', round(r_squared_train_rfr_finetuned, 3))\n",
    "print('R-squared (Test):', round(r_squared_test_rfr_finetuned, 3))\n",
    "print(\"Finetuned Ridge MSE (Train): \", round(mse_train_rfr_finetuned, 3))\n",
    "print(\"Finetuned Ridge MSE (Test): \", round(mse_test_rfr_finetuned, 3))"
   ]
  },
  {
   "cell_type": "markdown",
   "metadata": {},
   "source": [
    "### Model 4: SVR"
   ]
  },
  {
   "cell_type": "code",
   "execution_count": 25,
   "metadata": {},
   "outputs": [
    {
     "name": "stdout",
     "output_type": "stream",
     "text": [
      "Best Parameters: {'C': 0.1, 'kernel': 'poly'}\n"
     ]
    },
    {
     "ename": "NameError",
     "evalue": "name 'r_squared_train_svm' is not defined",
     "output_type": "error",
     "traceback": [
      "\u001b[0;31m---------------------------------------------------------------------------\u001b[0m",
      "\u001b[0;31mNameError\u001b[0m                                 Traceback (most recent call last)",
      "Cell \u001b[0;32mIn[25], line 38\u001b[0m\n\u001b[1;32m     35\u001b[0m best_mse_test_svm \u001b[38;5;241m=\u001b[39m mean_squared_error(y_test, y_pred_test_svm)\n\u001b[1;32m     37\u001b[0m \u001b[38;5;66;03m# Print evaluation metrics\u001b[39;00m\n\u001b[0;32m---> 38\u001b[0m \u001b[38;5;28mprint\u001b[39m(\u001b[38;5;124m'\u001b[39m\u001b[38;5;124mR-squared (Train):\u001b[39m\u001b[38;5;124m'\u001b[39m, \u001b[38;5;28mround\u001b[39m(\u001b[43mr_squared_train_svm\u001b[49m, \u001b[38;5;241m3\u001b[39m))\n\u001b[1;32m     39\u001b[0m \u001b[38;5;28mprint\u001b[39m(\u001b[38;5;124m'\u001b[39m\u001b[38;5;124mR-squared (Test):\u001b[39m\u001b[38;5;124m'\u001b[39m, \u001b[38;5;28mround\u001b[39m(r_squared_test_svm, \u001b[38;5;241m3\u001b[39m))\n\u001b[1;32m     40\u001b[0m \u001b[38;5;28mprint\u001b[39m(\u001b[38;5;124m\"\u001b[39m\u001b[38;5;124mSVR MSE (Train): \u001b[39m\u001b[38;5;124m\"\u001b[39m, \u001b[38;5;28mround\u001b[39m(mse_train_svm, \u001b[38;5;241m3\u001b[39m))\n",
      "\u001b[0;31mNameError\u001b[0m: name 'r_squared_train_svm' is not defined"
     ]
    }
   ],
   "source": [
    "from sklearn.svm import SVR\n",
    "from sklearn.model_selection import GridSearchCV\n",
    "\n",
    "# Define the parameters to search over\n",
    "parameters_svm = {'C': [0.1, 1],  # Regularization parameter\n",
    "                  'kernel': ['linear', 'rbf', 'poly']}  # Kernel types\n",
    "\n",
    "# Initialize the SVR model\n",
    "svr = SVR()\n",
    "\n",
    "# Initialize a GridSearchCV object by passing the SVR model and parameters\n",
    "grid_search_svm = GridSearchCV(svr, parameters_svm, cv=5)\n",
    "\n",
    "# Train the GridSearchCV\n",
    "grid_search_svm.fit(X_train_selected, y_train.values.ravel())\n",
    "\n",
    "# Print the best parameters\n",
    "print(\"Best Parameters:\", grid_search_svm.best_params_)\n",
    "\n",
    "# Save the best model into a separate variable to be used later\n",
    "best_svm_model = grid_search_svm.best_estimator_\n",
    "\n",
    "#evaluating the model\n",
    "\n",
    "# Get predictions\n",
    "y_pred_train_svm = best_svm_model.predict(X_train_selected)\n",
    "y_pred_test_svm = best_svm_model.predict(X_test_selected)\n",
    "\n",
    "# Calculate R-squared\n",
    "best_r_squared_train_svm = best_svm_model.score(X_train_selected, y_train)\n",
    "best_r_squared_test_svm = best_svm_model.score(X_test_selected, y_test)\n",
    "\n",
    "# Calculate MSE\n",
    "best_mse_train_svm = mean_squared_error(y_train, y_pred_train_svm)\n",
    "best_mse_test_svm = mean_squared_error(y_test, y_pred_test_svm)\n",
    "\n"
   ]
  },
  {
   "cell_type": "code",
   "execution_count": 28,
   "metadata": {},
   "outputs": [
    {
     "name": "stdout",
     "output_type": "stream",
     "text": [
      "R-squared (Train): 0.01\n",
      "R-squared (Test): -0.021\n",
      "SVR MSE (Train):  0.772\n",
      "SVR MSE (Test):  0.709\n"
     ]
    }
   ],
   "source": [
    "# Print evaluation metrics\n",
    "print('R-squared (Train):', round(best_r_squared_train_svm, 3))\n",
    "print('R-squared (Test):', round(best_r_squared_test_svm, 3))\n",
    "print(\"SVR MSE (Train): \", round(best_mse_train_svm, 3))\n",
    "print(\"SVR MSE (Test): \", round(best_mse_test_svm, 3))"
   ]
  },
  {
   "cell_type": "markdown",
   "metadata": {},
   "source": [
    "## Dataframe printing out all the models results"
   ]
  },
  {
   "cell_type": "code",
   "execution_count": 31,
   "metadata": {},
   "outputs": [
    {
     "data": {
      "text/html": [
       "<div>\n",
       "<style scoped>\n",
       "    .dataframe tbody tr th:only-of-type {\n",
       "        vertical-align: middle;\n",
       "    }\n",
       "\n",
       "    .dataframe tbody tr th {\n",
       "        vertical-align: top;\n",
       "    }\n",
       "\n",
       "    .dataframe thead th {\n",
       "        text-align: right;\n",
       "    }\n",
       "</style>\n",
       "<table border=\"1\" class=\"dataframe\">\n",
       "  <thead>\n",
       "    <tr style=\"text-align: right;\">\n",
       "      <th></th>\n",
       "      <th>Model</th>\n",
       "      <th>R Squared Train</th>\n",
       "      <th>R Squared Test</th>\n",
       "      <th>MSE Train</th>\n",
       "      <th>MSE Test</th>\n",
       "    </tr>\n",
       "  </thead>\n",
       "  <tbody>\n",
       "    <tr>\n",
       "      <th>0</th>\n",
       "      <td>Linear Regression</td>\n",
       "      <td>0.127546</td>\n",
       "      <td>-2.091497e+18</td>\n",
       "      <td>0.680263</td>\n",
       "      <td>1.453053e+18</td>\n",
       "    </tr>\n",
       "    <tr>\n",
       "      <th>1</th>\n",
       "      <td>Ridge</td>\n",
       "      <td>0.778296</td>\n",
       "      <td>6.157175e-01</td>\n",
       "      <td>0.172865</td>\n",
       "      <td>2.669775e-01</td>\n",
       "    </tr>\n",
       "    <tr>\n",
       "      <th>2</th>\n",
       "      <td>Ridge (Hypertuned)</td>\n",
       "      <td>0.001846</td>\n",
       "      <td>-4.612364e-04</td>\n",
       "      <td>0.778272</td>\n",
       "      <td>6.950634e-01</td>\n",
       "    </tr>\n",
       "    <tr>\n",
       "      <th>3</th>\n",
       "      <td>Random Forest</td>\n",
       "      <td>0.845023</td>\n",
       "      <td>-1.781536e-01</td>\n",
       "      <td>0.120838</td>\n",
       "      <td>8.185139e-01</td>\n",
       "    </tr>\n",
       "    <tr>\n",
       "      <th>4</th>\n",
       "      <td>Random Forest (Hypertuned)</td>\n",
       "      <td>0.078816</td>\n",
       "      <td>-4.971439e-03</td>\n",
       "      <td>0.718258</td>\n",
       "      <td>6.981968e-01</td>\n",
       "    </tr>\n",
       "    <tr>\n",
       "      <th>5</th>\n",
       "      <td>SVR</td>\n",
       "      <td>-5.626141</td>\n",
       "      <td>-5.626141e+00</td>\n",
       "      <td>5.166481</td>\n",
       "      <td>4.968816e+00</td>\n",
       "    </tr>\n",
       "    <tr>\n",
       "      <th>6</th>\n",
       "      <td>SVR (Hypertuned)</td>\n",
       "      <td>0.009599</td>\n",
       "      <td>-2.118498e-02</td>\n",
       "      <td>0.772227</td>\n",
       "      <td>4.968816e+00</td>\n",
       "    </tr>\n",
       "  </tbody>\n",
       "</table>\n",
       "</div>"
      ],
      "text/plain": [
       "                        Model  R Squared Train  R Squared Test  MSE Train  \\\n",
       "0           Linear Regression         0.127546   -2.091497e+18   0.680263   \n",
       "1                       Ridge         0.778296    6.157175e-01   0.172865   \n",
       "2          Ridge (Hypertuned)         0.001846   -4.612364e-04   0.778272   \n",
       "3               Random Forest         0.845023   -1.781536e-01   0.120838   \n",
       "4  Random Forest (Hypertuned)         0.078816   -4.971439e-03   0.718258   \n",
       "5                         SVR        -5.626141   -5.626141e+00   5.166481   \n",
       "6            SVR (Hypertuned)         0.009599   -2.118498e-02   0.772227   \n",
       "\n",
       "       MSE Test  \n",
       "0  1.453053e+18  \n",
       "1  2.669775e-01  \n",
       "2  6.950634e-01  \n",
       "3  8.185139e-01  \n",
       "4  6.981968e-01  \n",
       "5  4.968816e+00  \n",
       "6  4.968816e+00  "
      ]
     },
     "execution_count": 31,
     "metadata": {},
     "output_type": "execute_result"
    }
   ],
   "source": [
    "# Create a dictionary to hold evauluation metrics from the models\n",
    "finetuned_data = {\n",
    "\n",
    "    'Model': [\n",
    "        'Linear Regression',\n",
    "        'Ridge',\n",
    "        'Ridge (Hypertuned)',\n",
    "        'Random Forest',\n",
    "        'Random Forest (Hypertuned)',\n",
    "        'SVR',\n",
    "        'SVR (Hypertuned)'\n",
    "        ],\n",
    "\n",
    "\n",
    "    'R Squared Train': [\n",
    "        r_sq_train_lr,\n",
    "        r_sq_train_ridge,\n",
    "        r_squared_train_ridge_best_alpha,\n",
    "        r_sq_train_rf,\n",
    "        r_squared_train_rfr_finetuned,\n",
    "        r_sq_train_svm,\n",
    "        best_r_squared_train_svm \n",
    "        ],\n",
    "\n",
    "    'R Squared Test': [\n",
    "        r_sq_test_lr,\n",
    "        r_sq_test_ridge,\n",
    "        r_squared_test_ridge_best_alpha,\n",
    "        r_sq_test_rf,\n",
    "        r_squared_test_rfr_finetuned,\n",
    "        r_sq_train_svm,\n",
    "        best_r_squared_test_svm \n",
    "        ],\n",
    "\n",
    "    'MSE Train': [\n",
    "        mse_train_lr,\n",
    "        mse_train_ridge,\n",
    "        mse_train_ridge_best_alpha,\n",
    "        mse_train_rf,\n",
    "        mse_train_rfr_finetuned,\n",
    "        mse_train_svm,\n",
    "        best_mse_train_svm\n",
    "        ],\n",
    "\n",
    "    'MSE Test': [\n",
    "        mse_test_lr,\n",
    "        mse_test_ridge,\n",
    "        mse_test_ridge_best_alpha,\n",
    "        mse_test_rf,\n",
    "        mse_test_rfr_finetuned,\n",
    "        mse_test_svm,\n",
    "        mse_test_svm\n",
    "    ]\n",
    "    }\n",
    "\n",
    "# Create and display a dataframe\n",
    "finetuned_results_df = pd.DataFrame(finetuned_data)\n",
    "finetuned_results_df"
   ]
  },
  {
   "cell_type": "markdown",
   "metadata": {},
   "source": [
    "Observations:\n",
    "- The Ridge model performed the best overall with a 0.77 R squared train and 6.15 test score.\n",
    "- The model that improved the most with hyperparameter tuning was the SVR model.\n",
    "- Overall, the other models did not perform well with concerns of overfitting. \n",
    "- Another observaiton to note is that suprisingly the features selection parameters during feautre engineering did not make the models perform better. This may be due to the fact that the data was not handled properly and I will have to check on what happened there. "
   ]
  },
  {
   "cell_type": "markdown",
   "metadata": {},
   "source": [
    "### References"
   ]
  },
  {
   "cell_type": "markdown",
   "metadata": {},
   "source": [
    "1. Lab 3 Solutions\n",
    "2. Lab 6 Solutions\n",
    "3. https://scikit-learn.org/stable/modules/generated/sklearn.ensemble.GradientBoostingRegressor.html\n",
    "https://scikit-learn.org/stable/modules/generated/sklearn.ensemble.RandomForestRegressor.html\n",
    "https://scikit-learn.org/stable/modules/generated/sklearn.ensemble.RandomForestRegressor.html\n",
    "4. Lab 8 Solutions\n",
    "5. https://scikit-learn.org/stable/modules/generated/sklearn.svm.SVR.html\n",
    "6. HW1\n"
   ]
  }
 ],
 "metadata": {
  "kernelspec": {
   "display_name": "Python 3 (ipykernel)",
   "language": "python",
   "name": "python3"
  },
  "language_info": {
   "codemirror_mode": {
    "name": "ipython",
    "version": 3
   },
   "file_extension": ".py",
   "mimetype": "text/x-python",
   "name": "python",
   "nbconvert_exporter": "python",
   "pygments_lexer": "ipython3",
   "version": "3.10.9"
  }
 },
 "nbformat": 4,
 "nbformat_minor": 2
}
